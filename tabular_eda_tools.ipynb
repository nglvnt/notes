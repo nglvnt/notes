{
 "cells": [
  {
   "cell_type": "markdown",
   "metadata": {},
   "source": [
    "# Exploratory data analysis tools for tabular data in Python and R"
   ]
  },
  {
   "cell_type": "markdown",
   "metadata": {},
   "source": [
    "## Summary"
   ]
  },
  {
   "cell_type": "markdown",
   "metadata": {},
   "source": [
    "## Tools\n",
    "\n",
    "### Python\n",
    "\n",
    "ADIX: https://github.com/imooger/adix\n",
    "\n",
    "AutoViz: https://github.com/AutoViML/AutoViz\n",
    "\n",
    "dabl: https://dabl.github.io/stable/, https://github.com/dabl/dabl\n",
    "\n",
    "DataPrep: https://dataprep.ai/, https://github.com/sfu-db/dataprep\n",
    "\n",
    "Dora: https://github.com/nathanepstein/dora\n",
    "\n",
    "D-Tale: https://github.com/man-group/dtale, http://alphatechadmin.pythonanywhere.com/\n",
    "\n",
    "klib: https://klib.readthedocs.io/en/latest/, https://github.com/akanz1/klib\n",
    "\n",
    "Lux: https://github.com/lux-org/lux, https://lux-api.readthedocs.io/en/latest/\n",
    "\n",
    "missingno: https://github.com/ResidentMario/missingno\n",
    "\n",
    "PandasGUI: https://github.com/adamerose/pandasgui\n",
    "\n",
    "Pandas Visual Analysis: https://github.com/meffmadd/pandas-visual-analysis\n",
    "\n",
    "summarytools: https://github.com/6chaoran/jupyter-summarytools\n",
    "\n",
    "Sweetviz: https://github.com/fbdesignpro/sweetviz, https://colab.research.google.com/drive/1-md6YEwcVGWVnQWTBirQSYQYgdNoeSWg?usp=sharing, https://towardsdatascience.com/powerful-eda-exploratory-data-analysis-in-just-two-lines-of-code-using-sweetviz-6c943d32f34, https://www.kdnuggets.com/2021/02/powerful-exploratory-data-analysis-sweetviz.html, https://www.kdnuggets.com/2021/03/know-your-data-much-faster-sweetviz-python-library.html, https://www.analyticsvidhya.com/blog/2021/05/sweetviz-library-eda-in-seconds/, https://towardsdatascience.com/sweetviz-automated-eda-in-python-a97e4cabacde, https://prrasad.medium.com/speed-up-exploratory-data-analysis-with-sweetviz-a-powerful-tool-for-data-visualization-ad1108fdf23, https://www.geeksforgeeks.org/sweetviz-automated-exploratory-data-analysis-eda/\n",
    "\n",
    "ydata-profiling: https://github.com/ydataai/ydata-profiling, https://docs.profiling.ydata.ai/latest/\n",
    "\n",
    "### R\n",
    "\n",
    "summarytools: https://github.com/dcomtois/summarytools\n"
   ]
  },
  {
   "cell_type": "markdown",
   "metadata": {},
   "source": [
    "## Resources\n",
    "\n",
    "https://www.practicalpythonfordatascience.com/02_loading_data\n",
    "\n",
    "https://www.practicalpythonfordatascience.com/03_cleaning_data\n",
    "\n",
    "https://www.practicalpythonfordatascience.com/04_data_visualization\n",
    "\n",
    "https://www.practicalpythonfordatascience.com/05_data_exploration\n",
    "\n",
    "https://github.com/StephenElston/ExploringDataWithPython\n",
    "\n",
    "https://www.reddit.com/r/Python/comments/hlqnim/understand_your_data_with_a_few_lines_of_code_in/\n",
    "\n",
    "https://towardsdatascience.com/exploratory-data-analysis-dataprep-eda-vs-pandas-profiling-7137683fe47f\n",
    "\n",
    "https://rubikscode.net/2019/06/03/guide-to-exploratory-data-analysis-with-python/\n",
    "\n",
    "### Already read?\n",
    "\n",
    "https://medium.com/geekculture/useful-exploratory-data-analysis-packages-in-python-f54e14b79cc9\n",
    "\n",
    "https://builtin.com/data-science/EDA-python\n",
    "\n",
    "https://www.linkedin.com/pulse/guide-effective-auto-eda-python-libraries-exploratory-nikher-verma\n",
    "\n",
    "https://cornellius.substack.com/p/python-packages-for-automated-eda\n",
    "\n",
    "https://towardsdatascience.com/powerful-packages-to-boost-your-exploratory-data-analysis-performance-bb0db4744530\n"
   ]
  }
 ],
 "metadata": {
  "kernelspec": {
   "display_name": ".venv",
   "language": "python",
   "name": "python3"
  },
  "language_info": {
   "codemirror_mode": {
    "name": "ipython",
    "version": 3
   },
   "file_extension": ".py",
   "mimetype": "text/x-python",
   "name": "python",
   "nbconvert_exporter": "python",
   "pygments_lexer": "ipython3",
   "version": "3.12.3"
  }
 },
 "nbformat": 4,
 "nbformat_minor": 2
}
